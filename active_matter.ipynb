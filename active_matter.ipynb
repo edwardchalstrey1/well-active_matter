{
 "cells": [
  {
   "cell_type": "code",
   "execution_count": 5,
   "id": "3ed632be",
   "metadata": {},
   "outputs": [],
   "source": [
    "import matplotlib.pyplot as plt\n",
    "import numpy as np\n",
    "import torch\n",
    "from torch.utils.data import DataLoader\n",
    "from einops import rearrange\n",
    "# from neuralop.models import FNO\n",
    "from tqdm import tqdm\n",
    "\n",
    "from the_well.benchmark.metrics import VRMSE\n",
    "from the_well.data import WellDataset\n",
    "from the_well.utils.download import well_download\n"
   ]
  },
  {
   "cell_type": "markdown",
   "id": "05ad8c06",
   "metadata": {},
   "source": [
    "### Notes:\n",
    "- I could not find a way to download only a subset of the dataset, though you might be able to do this [with huggingface](https://huggingface.co/docs/datasets/loading#slice-splits)"
   ]
  },
  {
   "cell_type": "code",
   "execution_count": 6,
   "id": "0edb0c39",
   "metadata": {},
   "outputs": [],
   "source": [
    "# device = \"cuda\"\n",
    "base_path = \"./datasets\"  # path/to/storage"
   ]
  },
  {
   "cell_type": "code",
   "execution_count": 7,
   "id": "40b5b0d7",
   "metadata": {},
   "outputs": [],
   "source": [
    "# Download 10% of the train dataset\n",
    "# well_download(base_path=base_path, dataset=\"active_matter\", split=\"train[:10%]\")\n",
    "\n",
    "# The following line may take a couple of minutes to instantiate the datamodule\n",
    "trainset = WellDataset(\n",
    "    well_base_path=\"hf://datasets/polymathic-ai/\",  # access from HF hub\n",
    "    well_dataset_name=\"active_matter\",\n",
    "    well_split_name=\"train\",\n",
    ")"
   ]
  },
  {
   "cell_type": "code",
   "execution_count": 8,
   "id": "713095c8",
   "metadata": {},
   "outputs": [
    {
     "data": {
      "text/plain": [
       "['input_fields',\n",
       " 'output_fields',\n",
       " 'constant_scalars',\n",
       " 'boundary_conditions',\n",
       " 'space_grid',\n",
       " 'input_time_grid',\n",
       " 'output_time_grid']"
      ]
     },
     "execution_count": 8,
     "metadata": {},
     "output_type": "execute_result"
    }
   ],
   "source": [
    "item = trainset[0]\n",
    "\n",
    "list(item.keys())"
   ]
  }
 ],
 "metadata": {
  "kernelspec": {
   "display_name": "thewellenv",
   "language": "python",
   "name": "python3"
  },
  "language_info": {
   "codemirror_mode": {
    "name": "ipython",
    "version": 3
   },
   "file_extension": ".py",
   "mimetype": "text/x-python",
   "name": "python",
   "nbconvert_exporter": "python",
   "pygments_lexer": "ipython3",
   "version": "3.11.3"
  }
 },
 "nbformat": 4,
 "nbformat_minor": 5
}
